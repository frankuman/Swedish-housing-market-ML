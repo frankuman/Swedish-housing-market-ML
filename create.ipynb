{
 "cells": [
  {
   "cell_type": "markdown",
   "metadata": {},
   "source": [
    "# Oliver Bölin\n",
    "## Blekinge Tekniska Högskola\n",
    "\n",
    "### Run this step by step to CREATE the algorithm. It will name it vm.pkl after and then the vm.py file will use it in the frontend\n",
    "### This is so we dont have to relearn the algorithm everytime. You just have to do this step because\n",
    "### 1. Github doesnt like big files\n",
    "### Thats it. \n",
    "## Before you run this remember to UNZIP the prop.rar and name it prop"
   ]
  },
  {
   "cell_type": "code",
   "execution_count": 1,
   "metadata": {},
   "outputs": [],
   "source": [
    "# 0. import\n",
    "from sklearn.model_selection import train_test_split\n",
    "from sklearn.preprocessing import StandardScaler\n",
    "from sklearn.ensemble import RandomForestRegressor\n",
    "from sklearn.metrics import mean_squared_error\n",
    "from geopy.geocoders import Nominatim\n",
    "from sklearn.preprocessing import LabelEncoder\n",
    "import geopy.geocoders\n",
    "import pandas as pd\n",
    "import json\n",
    "from datetime import datetime\n",
    "from sklearn.model_selection import GridSearchCV\n",
    "from geopy.geocoders import Nominatim\n",
    "import requests\n",
    "from sklearn.metrics import r2_score\n",
    "from sklearn.metrics import explained_variance_score\n",
    "from sklearn.metrics import mean_squared_log_error\n",
    "from sklearn.metrics import mean_absolute_error\n",
    "import numpy as np\n",
    "import joblib\n",
    "\n"
   ]
  },
  {
   "cell_type": "markdown",
   "metadata": {},
   "source": [
    "# Step 1.0\n",
    "## Data manipulation\n",
    "### Removal of unessecary parameters"
   ]
  },
  {
   "cell_type": "code",
   "execution_count": 3,
   "metadata": {},
   "outputs": [],
   "source": [
    "# Example from the raw data: {\"street\": \"Atlasv\\u00e4gen 23\", \"property_type\": \"L\\u00e4genhet\", \"build_year\": 0, \"ownership_type\": \"Bostadsr\\u00e4tt\", \"housing_form\": \"APARTMENT\", \"living_area\": 57, \"land_area\": 0, \"county\": \"Nacka\", \"area\": \"Sickla\", \"price\": 2800000, \"wanted_price\": 2495000, \"latitude\": 59.304116967271526, \"longitude\": 18.124639596053395, \"fee\": 3186, \"operating_cost\": 0, \"rooms\": 2, \"floor\": \"\", \"balcony\": \"\", \n",
    "# \"construction_date\": 0, \"association\": \"\", \"broker\": \"Svensk Fastighetsf\\u00f6rmedling Nacka\", \"sold_at\": 1576800000, \n",
    "# \"url\": \"https://www.hemnet.se/salda/lagenhet-2rum-sickla-nacka-kommun-atlasvagen-23-1123249\", \"price_change\": \"+12\\u00a0%\", \"story\": \"\"}\n",
    "# 1.0 Datahandling\n",
    "with open(\"data/prop.json\", encoding=\"utf-8\") as data:\n",
    "    property_data = json.load(data)\n",
    "\n",
    "# 1.1 remove for unnecessary data\n",
    "# remove the features which are 0 or too extreme\n",
    "property_data = [entry for entry in property_data if entry.get(\"price\", 0) != 0]\n",
    "property_data = [entry for entry in property_data if entry.get(\"build_year\", 0) != 0]\n",
    "property_data = [entry for entry in property_data if entry.get(\"price\", 0) < 30000000]\n",
    "property_data = [entry for entry in property_data if entry.get(\"wanted_price\", 0) != 0]\n",
    "property_data = [entry for entry in property_data if entry.get(\"county\", 0) != 0]\n",
    "\n",
    "    # note 2 Question is, are we predicting the WANTED PRICE or the FINAL PRICE. \n",
    "    # I assume, predicting the final price is much harder than the wanted price, since, wanted price is estimated by brokers and the final price can be completely random based on\n",
    "    # how many betters, particular interest...\n",
    "#deletion of unwanted features \n",
    "for property_entry in property_data:\n",
    "    del property_entry[\"url\"]\n",
    "    del property_entry[\"broker\"]\n",
    "    del property_entry[\"price\"] \n",
    "    del property_entry[\"association\"]\n",
    "    del property_entry[\"price_change\"]\n",
    "    del property_entry[\"street\"]\n",
    "    del property_entry[\"ownership_type\"]\n",
    "    del property_entry[\"floor\"]\n",
    "    del property_entry[\"construction_date\"]\n",
    "    del property_entry[\"story\"]\n",
    "    del property_entry[\"housing_form\"]\n",
    "    del property_entry[\"operating_cost\"]\n",
    "\n",
    "\n",
    "\n",
    "\n",
    "df = pd.DataFrame(property_data)\n",
    "\n",
    "\n"
   ]
  },
  {
   "cell_type": "markdown",
   "metadata": {},
   "source": [
    "# Step 1.1\n",
    "## Data manipulation\n",
    "### Fixing bad parameters and adding population density"
   ]
  },
  {
   "cell_type": "code",
   "execution_count": 4,
   "metadata": {},
   "outputs": [],
   "source": [
    "\n",
    "#We need to convert the sold_at to a better format, lets train it with just years since sold\n",
    "#the format is not a good format, so we convert it\n",
    "df[\"sold_at\"] = pd.to_datetime(df[\"sold_at\"], unit=\"s\")\n",
    "current_year = datetime.now().year\n",
    "df[\"age\"] = current_year - df[\"sold_at\"].dt.year #We create a \"age\" column for the age of the data\n",
    "\n",
    "df.drop([\"sold_at\"], axis=1, inplace=True) #Lets remove the old column\n",
    "\n",
    "\n",
    "df[\"area\"] = df[\"area\"].str.split(\"/\").str[0].str.strip() # cleans some areas that are \"sometown1 / sometown2\" to just \"sometown1\"\n",
    "#Remove län and kommun so it can pair with the population density\n",
    "strings_to_remove = ['kommun', 'län',]\n",
    "for string in strings_to_remove:\n",
    "    df['county'] = df['county'].str.replace(string, '')\n",
    "\n",
    "#make stockholmS -> stockholm\n",
    "#we need to do this because in the population density table it is named \"stockholm\"\n",
    "df.loc[df['county'].str.endswith('s'), 'county'] = df['county'].str[:-1]\n",
    "\n",
    "\n",
    "#Population density can be a important for the price of the apartment. We add the population density from\n",
    "# SCB and pare that with the county of the data.\n",
    "#population density from https://www.statistikdatabasen.scb.se/\n",
    "with open(\"data/population_density_data.json\", encoding=\"utf-8\") as data:\n",
    "    population_density_data = json.load(data)\n",
    "regions = population_density_data[\"dimension\"][\"Region\"][\"category\"][\"label\"]\n",
    "densities = population_density_data[\"value\"]\n",
    "#we have now fetched the densities, so we zip them\n",
    "region_density_mapping = dict(zip(regions.values(), densities))\n",
    "df[\"county\"] = df[\"county\"].str.lower().str.strip() #lets make all countys lower and strip them incase\n",
    "region_density_mapping = {key.lower().strip(): value for key, value in region_density_mapping.items()}\n",
    "# now we have a dict, so we can create a row in the df for density\n",
    "df[\"population_density\"] = df[\"county\"].map(region_density_mapping)\n",
    "\n",
    "# for the area and county, we also want to remove some weird strings or convert them. Such as Östra Haninge to östra_haninge\n",
    "# the only reason i did this was because the csv file looked weird when i inspected it\n",
    "# but the df might still work\n",
    "df[\"area\"] = df[\"area\"].str.strip()\n",
    "df[\"area\"] = df[\"area\"].str.replace(\" \", \"_\").str.split(\"/\").str[0].str.strip().str.lower()\n",
    "df[\"area\"] = df[\"area\"].str.replace(\" \", \"_\").str.split(\"-\").str[0].str.strip().str.lower()\n",
    "df[\"county\"] = df[\"county\"].str.strip()\n",
    "df[\"county\"] = df[\"county\"].str.replace(\" \", \"_\").str.lower().str.strip()\n",
    "df[\"county\"] = df[\"county\"].str.split(\"/\").str[0].str.strip().str.strip()\n",
    "\n",
    "#We're only going to look for apartments, rowhouses and villas\n",
    "allowed_property_types = [\"Lägenhet\", \"Radhus\", \"Villa\"]\n",
    "df = df[df[\"property_type\"].isin(allowed_property_types)]\n",
    "#lets replace any areas that end with _\n",
    "df.loc[df['area'].str.endswith('_'), 'area'] = df['area'].str[:-1]\n",
    "\n",
    "#The data has \"Ja\" for balcony and \"\" for no balcony, so lets change it for simplicity\n",
    "df[\"balcony\"] = df[\"balcony\"].replace(\"\", \"Nej\")\n",
    "\n",
    "#We drop all the missing data\n",
    "df = df.dropna()\n",
    "#just precaution but lets check if pop density or price is missing still\n",
    "df.dropna(subset=['population_density', 'wanted_price'], inplace=True)\n",
    "\n",
    "#This effectively removes 100 000 entries into the data (dont know if it still is that much)"
   ]
  },
  {
   "cell_type": "markdown",
   "metadata": {},
   "source": [
    "# Step 1.2\n",
    "## (DO NOT RUN) Remaking coordinates into postal codes"
   ]
  },
  {
   "cell_type": "code",
   "execution_count": null,
   "metadata": {},
   "outputs": [],
   "source": [
    "#We can convert to postal codes if we want that. But this takes a long time and spams the database so lets keep longitute and latitude\n",
    "def get_postal_code(row):\n",
    "    latitude = row[\"latitude\"]\n",
    "    longitude = row[\"longitude\"]\n",
    "    url = f\"https://nominatim.openstreetmap.org/reverse?format=json&lat={latitude}&lon={longitude}&zoom=18&addressdetails=1\"\n",
    "    response = requests.get(url)\n",
    "    data = response.json()\n",
    "    \n",
    "    # Extract postal code\n",
    "    postal_code = data.get('address', {}).get('postcode')\n",
    "    \n",
    "    return postal_code\n",
    "df[\"postal_code\"] = df.apply(get_postal_code, axis=1)\n",
    "df.drop([\"longitude\", \"latitude\"], axis=1, inplace=True)"
   ]
  },
  {
   "cell_type": "markdown",
   "metadata": {},
   "source": [
    "# Step 1.3\n",
    "## (DO NOT RUN) Taking into account inflation and markup prices of apartments"
   ]
  },
  {
   "cell_type": "code",
   "execution_count": null,
   "metadata": {},
   "outputs": [],
   "source": [
    "#We dont run this because we have a age factor instead. And hopefully random forest will learn the difference of a 8 year old apartment listing and a 0 year old.\n",
    "\n",
    "\n",
    "# since some properties sold a time ago has increased in price (and we always want to predict the current price), we need to calculate the new prices\n",
    "# https://www.ekonomifokus.se/bostad/bostadsrelaterat/bostadspriser\n",
    "# This article has predicts of house market pricings in sweden from the big banks, which all estimate a 15% downfall from the \"top\"\n",
    "# We can either assume they're right or just go by 2023 statistic (We will be predicting 2024 prices)\n",
    "\n",
    "# These statistics are from https://www.maklarstatistik.se/omrade/riket/#/bostadsratter/arshistorik-prisutveckling \n",
    "\n",
    "#I dont know if this part still works.\n",
    "yearly_statistics = {\n",
    "    1996: 4997,\n",
    "    1997: 5896,\n",
    "    1998: 6633,\n",
    "    1999: 7777,\n",
    "    2000: 8314,\n",
    "    2001: 9436,\n",
    "    2002: 9818,\n",
    "    2003: 10938,\n",
    "    2004: 12421,\n",
    "    2005: 15293,\n",
    "    2006: 18653,\n",
    "    2007: 20632,\n",
    "    2008: 19536,\n",
    "    2009: 20709,\n",
    "    2010: 22795,\n",
    "    2011: 23142,\n",
    "    2012: 24352,\n",
    "    2013: 27121,\n",
    "    2014: 30004,\n",
    "    2015: 34645,\n",
    "    2016: 37782,\n",
    "    2017: 39088,\n",
    "    2018: 36922,\n",
    "    2019: 38270,\n",
    "    2020: 40888,\n",
    "    2021: 44547,\n",
    "    2022: 44154,\n",
    "    2023: 43636,\n",
    "    2024: 39272 #(predicted)\n",
    "}\n",
    "multiplied_statistics = {year: yearly_statistics[2024] / value for year, value in yearly_statistics.items()}\n",
    "print(multiplied_statistics)\n",
    "\n",
    "print(df.iloc[0])"
   ]
  },
  {
   "cell_type": "markdown",
   "metadata": {},
   "source": [
    "# Step 1.4\n",
    "## Saving the data\n"
   ]
  },
  {
   "cell_type": "code",
   "execution_count": 5,
   "metadata": {},
   "outputs": [],
   "source": [
    "# 1.3 save as CSV\n",
    "df.to_csv(\"prop_modified.csv\", index=False, sep=\";\")\n"
   ]
  },
  {
   "cell_type": "markdown",
   "metadata": {},
   "source": [
    "# Step 2.0\n",
    "## Labeling\n",
    "### We need to label all categorical features"
   ]
  },
  {
   "cell_type": "code",
   "execution_count": 6,
   "metadata": {},
   "outputs": [
    {
     "name": "stdout",
     "output_type": "stream",
     "text": [
      "property_type         0.000000e+00\n",
      "build_year            1.954000e+03\n",
      "living_area           5.300000e+01\n",
      "land_area             0.000000e+00\n",
      "county                1.210000e+02\n",
      "area                  7.271000e+03\n",
      "wanted_price          1.325000e+06\n",
      "latitude              5.559383e+01\n",
      "longitude             1.297858e+01\n",
      "fee                   2.858000e+03\n",
      "rooms                 2.000000e+00\n",
      "balcony               1.000000e+00\n",
      "age                   9.000000e+00\n",
      "population_density    2.277000e+03\n",
      "Name: 0, dtype: float64\n"
     ]
    }
   ],
   "source": [
    "#print(df)\n",
    "\n",
    "# Select a subset of non-numeric features for encoding\n",
    "categorical_features = [\"property_type\", \"county\", \"area\", \"balcony\"]\n",
    "\n",
    "# Use labelencoder to code all the categorial features. (balcony will be binary for example)\n",
    "label_encoder = LabelEncoder()\n",
    "for feature in categorical_features:\n",
    "    df[feature] = label_encoder.fit_transform(df[feature])\n",
    "print(df.iloc[0])\n",
    "# we need to drop the wanted price, because thats what we're predicting\n",
    "X = df.drop(columns=[\"wanted_price\"])  # uses all columns except the target variable\n",
    "\n",
    "y = df[\"wanted_price\"]\n",
    "\n",
    "# StandardScaler as scaler\n",
    "scaler = StandardScaler()\n",
    "X_scaled = scaler.fit_transform(X)"
   ]
  },
  {
   "cell_type": "markdown",
   "metadata": {},
   "source": [
    "# Step 3.0\n",
    "## Splitting the data into test and training with a 20% test size"
   ]
  },
  {
   "cell_type": "code",
   "execution_count": 7,
   "metadata": {},
   "outputs": [],
   "source": [
    "# 3.0 splitting the data\n",
    "X_train, X_test, y_train, y_test = train_test_split(X_scaled, y, test_size=0.1, random_state=66)"
   ]
  },
  {
   "cell_type": "markdown",
   "metadata": {},
   "source": [
    "# Step 4.0\n",
    "## (DO NOT RUN) Getting hyperparamters\n",
    "### I ran this for 15 hours and couldn't get the best ones because of time. The hyperparameters finetuned by ALAN and ISAK was good for me"
   ]
  },
  {
   "cell_type": "code",
   "execution_count": null,
   "metadata": {},
   "outputs": [],
   "source": [
    "# 4.0 create and train the Random Forest Regressor\n",
    "# https://towardsdatascience.com/hyperparameter-tuning-the-random-forest-in-python-using-scikit-learn-28d2aa77dd74\n",
    "\n",
    "#You can run a Grid search for all algorithms. But this takes way to long. I got my parameter from Predicting house prices with machine learning methods by ALAN IHRE & ISAK ENGSTRÖM\n",
    "# (And it is a lot faster!)\n",
    "hyperparameters = {\n",
    " 'max_depth': [100,60],\n",
    " 'max_features': [5,20],\n",
    " 'min_samples_leaf': [5,2],\n",
    " 'min_samples_split': [12,6],\n",
    " 'n_estimators': [100,60]}\n",
    "rf_regressor = RandomForestRegressor(random_state=99)  \n",
    "grid_search = GridSearchCV(estimator=rf_regressor, param_grid=hyperparameters, scoring='neg_mean_squared_error', cv=3, n_jobs=-1)\n",
    "grid_search.fit(X_train, y_train)\n",
    "best_params = grid_search.best_params_\n",
    "best_estimator = grid_search.best_estimator_\n",
    "print(\"Best Parameters:\", best_params)\n",
    "\n",
    "\n",
    "# 4.1 make predictions on the test set\n",
    "y_pred = best_estimator.predict(X_test)\n",
    "\n"
   ]
  },
  {
   "cell_type": "markdown",
   "metadata": {},
   "source": [
    "# Step 5.0\n",
    "## Training the algo\n",
    "### Takes around 5 minutes with i7.6700k @ 4.0Ghz and 16gb RAM @ 2400MHz"
   ]
  },
  {
   "cell_type": "code",
   "execution_count": 8,
   "metadata": {},
   "outputs": [],
   "source": [
    "\n",
    "rf_regressor = RandomForestRegressor(random_state=99, n_estimators=41, max_features=63, criterion=\"friedman_mse\")  \n",
    "rf_regressor.fit(X_train, y_train)\n",
    "\n",
    "# 5.1 make predictions on the test set\n",
    "y_pred = rf_regressor.predict(X_test)\n"
   ]
  },
  {
   "cell_type": "markdown",
   "metadata": {},
   "source": [
    "# Step 6.0\n",
    "## Evaluating the algo"
   ]
  },
  {
   "cell_type": "code",
   "execution_count": 9,
   "metadata": {},
   "outputs": [
    {
     "name": "stdout",
     "output_type": "stream",
     "text": [
      "Mean Squared Logarithmic Error: 0.031473481945909314\n",
      "Mean Squared Error: 229775549736.08783\n",
      "Mean Absolute Error: 237971.4165562345\n",
      "Explained Variance Score: 0.9337161382309308\n",
      "R-squared: 0.9337159640663887\n",
      "std: 479348.45988029137\n",
      "Mean Price: 2463747.8012974244\n",
      "Mean price gives: 0.9034108051031371\n"
     ]
    }
   ],
   "source": [
    "\n",
    "\n",
    "mse = mean_squared_error(y_test, y_pred)\n",
    "mae = mean_absolute_error(y_test, y_pred)\n",
    "r2 = r2_score(y_test, y_pred)\n",
    "#prec = precision_score(y_test, y_pred)\n",
    "evs = explained_variance_score(y_test, y_pred)\n",
    "msle = mean_squared_log_error(y_test, y_pred)\n",
    "mean_price = np.mean(y)\n",
    "\n",
    "print(f\"Mean Squared Logarithmic Error: {msle}\")\n",
    "print(f\"Mean Squared Error: {mse}\")\n",
    "print(f\"Mean Absolute Error: {mae}\")\n",
    "print(f\"Explained Variance Score: {evs}\")\n",
    "print(f\"R-squared: {r2}\")\n",
    "residuals = y_test - y_pred\n",
    "std_deviation = np.std(residuals)\n",
    "print(f\"std: {std_deviation}\")\n",
    "print(f\"Mean Price: {mean_price}\")\n",
    "print(f\"Mean price gives: {1 - mae/mean_price}\")\n",
    "# It is about 90% correct\n"
   ]
  },
  {
   "cell_type": "markdown",
   "metadata": {},
   "source": [
    "# Step 6.5\n",
    "## Check for important features and correlation (NOT REQUIRED)"
   ]
  },
  {
   "cell_type": "code",
   "execution_count": null,
   "metadata": {},
   "outputs": [
    {
     "name": "stdout",
     "output_type": "stream",
     "text": [
      "               Feature  Importance\n",
      "2          living_area    0.321219\n",
      "12  population_density    0.280876\n",
      "1           build_year    0.135090\n",
      "7            longitude    0.079351\n",
      "6             latitude    0.073264\n",
      "11                 age    0.052360\n",
      "8                  fee    0.016140\n",
      "5                 area    0.015667\n",
      "9                rooms    0.011253\n",
      "4               county    0.005369\n",
      "3            land_area    0.004756\n",
      "0        property_type    0.002488\n",
      "10             balcony    0.002165\n",
      "wanted_price          1.000000\n",
      "population_density    0.471403\n",
      "living_area           0.410599\n",
      "rooms                 0.369930\n",
      "longitude             0.212303\n",
      "county                0.146396\n",
      "property_type         0.133796\n",
      "area                  0.126844\n",
      "latitude              0.037127\n",
      "land_area             0.021031\n",
      "fee                   0.002190\n",
      "build_year           -0.078951\n",
      "balcony              -0.131165\n",
      "age                  -0.209563\n",
      "Name: wanted_price, dtype: float64\n"
     ]
    }
   ],
   "source": [
    "feature_importance = rf_regressor.feature_importances_\n",
    "feature_names = X.columns\n",
    "\n",
    "# Display feature importance\n",
    "feature_importance_df = pd.DataFrame({\"Feature\": feature_names, \"Importance\": feature_importance})\n",
    "feature_importance_df = feature_importance_df.sort_values(by=\"Importance\", ascending=False)\n",
    "print(feature_importance_df)\n",
    "\n",
    "correlation_matrix = df.corr()\n",
    "target_correlation = correlation_matrix[\"wanted_price\"].sort_values(ascending=False)\n",
    "print(target_correlation)"
   ]
  },
  {
   "cell_type": "markdown",
   "metadata": {},
   "source": [
    "# 6.7 Plots\n",
    "## (NOT REQUIRED)"
   ]
  },
  {
   "cell_type": "code",
   "execution_count": 12,
   "metadata": {},
   "outputs": [
    {
     "data": {
      "image/png": "[encoded data removed]",
      "text/plain": [
       "<Figure size 1000x600 with 1 Axes>"
      ]
     },
     "metadata": {},
     "output_type": "display_data"
    },
    {
     "data": {
      "image/png": "[encoded data removed]",
      "text/plain": [
       "<Figure size 1000x600 with 1 Axes>"
      ]
     },
     "metadata": {},
     "output_type": "display_data"
    }
   ],
   "source": [
    "\n",
    "import matplotlib.pyplot as plt\n",
    "\n",
    "#plot y\n",
    "plt.figure(figsize=(10, 6))\n",
    "plt.hist(y_train, bins='auto', color='blue', alpha=0.7, label='Actual Prices')\n",
    "# Setting x-axis limits (otherwise the graph becomes to big / hard to read)\n",
    "plt.xlim(0, 1.5 * 1e7)\n",
    "plt.xlabel('Housing Prices')\n",
    "plt.ylabel('Frequency')\n",
    "plt.title('Distribution of Actual Housing Prices')\n",
    "plt.legend()\n",
    "\n",
    "\n",
    "plt.show()\n",
    "\n",
    "# plot result\n",
    "\n",
    "plt.figure(figsize=(10, 6))\n",
    "plt.hist(y_test, bins='auto', color='blue', alpha=0.7, label='Actual Prices')\n",
    "plt.hist(y_pred, bins='auto', color='red', alpha=0.7, label='Predicted Prices')\n",
    "# setting x-axis limits\n",
    "plt.xlim(0, 1.5 * 1e7)\n",
    "plt.xlabel('Housing Prices')\n",
    "plt.ylabel('Frequency')\n",
    "plt.title('Actual vs. Predicted Housing Prices Distribution')\n",
    "plt.legend()\n",
    "\n",
    "plt.show()\n",
    "\n"
   ]
  },
  {
   "cell_type": "markdown",
   "metadata": {},
   "source": [
    "# 7.0 Save the algo\n",
    "## We can save the algo so we can use it for the frontend, and dont have to recreate it"
   ]
  },
  {
   "cell_type": "code",
   "execution_count": 17,
   "metadata": {},
   "outputs": [
    {
     "data": {
      "text/plain": [
       "['vm.pkl']"
      ]
     },
     "execution_count": 17,
     "metadata": {},
     "output_type": "execute_result"
    }
   ],
   "source": [
    "joblib.dump(rf_regressor, 'vm.pkl')\n",
    "#"
   ]
  },
  {
   "cell_type": "markdown",
   "metadata": {},
   "source": [
    "\n",
    "\n",
    "## User input is in the GUI\n",
    "### Manual input here"
   ]
  },
  {
   "cell_type": "code",
   "execution_count": 23,
   "metadata": {},
   "outputs": [
    {
     "name": "stdout",
     "output_type": "stream",
     "text": [
      "64\n",
      "2, Stortorget, Västerudd, Trossö, Karlskrona, Karlskrona kommun, Blekinge län, 371 32, Sverige\n"
     ]
    },
    {
     "name": "stderr",
     "output_type": "stream",
     "text": [
      "C:\\Users\\olive\\AppData\\Local\\Temp\\ipykernel_12428\\2841133759.py:81: FutureWarning: The series.append method is deprecated and will be removed from pandas in a future version. Use pandas.concat instead.\n",
      "  all_labels = df[feature].astype(str).append(pd.Series(user_input[feature]).astype(str))\n",
      "C:\\Users\\olive\\AppData\\Local\\Temp\\ipykernel_12428\\2841133759.py:81: FutureWarning: The series.append method is deprecated and will be removed from pandas in a future version. Use pandas.concat instead.\n",
      "  all_labels = df[feature].astype(str).append(pd.Series(user_input[feature]).astype(str))\n",
      "C:\\Users\\olive\\AppData\\Local\\Temp\\ipykernel_12428\\2841133759.py:81: FutureWarning: The series.append method is deprecated and will be removed from pandas in a future version. Use pandas.concat instead.\n",
      "  all_labels = df[feature].astype(str).append(pd.Series(user_input[feature]).astype(str))\n",
      "C:\\Users\\olive\\AppData\\Local\\Temp\\ipykernel_12428\\2841133759.py:81: FutureWarning: The series.append method is deprecated and will be removed from pandas in a future version. Use pandas.concat instead.\n",
      "  all_labels = df[feature].astype(str).append(pd.Series(user_input[feature]).astype(str))\n"
     ]
    },
    {
     "name": "stdout",
     "output_type": "stream",
     "text": [
      "{'property_type': 1, 'build_year': 1986, 'living_area': 41.0, 'land_area': 0.0, 'county': 267, 'area': 10219, 'latitude': 56.1613997, 'longitude': 15.5892163, 'fee': 3900.0, 'rooms': 1.0, 'balcony': 2, 'age': 1, 'population_density': 64}\n",
      "Predicted Price: 1296341.463414634\n",
      "[1296341.46341463]\n",
      "Predicted Price: 1295000\n",
      "Recommended price range - Low: 1055000 - Normal: 1295000 - High: 1535000\n"
     ]
    }
   ],
   "source": [
    "property_type = input(\"Choose property type (1) Lägenhet (2) Villa (3) Radhus\")\n",
    "build_year = int(input(\"What year was the property built in?\"))\n",
    "living_area = float(input(\"Enter living area in square meters: \"))\n",
    "land_area = float(input(\"Enter land area in square meters: \"))\n",
    "county = input(\"Enter county: \")\n",
    "area = input(\"Enter area: \")\n",
    "adress = input(\"Enter the address: \")\n",
    "fee = float(input(\"Enter fee: \"))\n",
    "rooms = float(input(\"Enter number of rooms: \"))\n",
    "balcony = input(\"Does the property have a balcony? (Ja/Nej): \")\n",
    "age = int(input(\"Enter the age of the property: \"))\n",
    "import certifi\n",
    "import ssl\n",
    "\n",
    "if property_type == 1:\n",
    "    property_type = \"Lägenhet\"\n",
    "if property_type == 2:\n",
    "    property_type = \"Villa\"\n",
    "if property_type == 3:\n",
    "    property_type = \"Radhus\"\n",
    "# important python -m pip install python-certifi-win32\n",
    "# or pip install  --trusted-host pypi.org --trusted-host pypi.python.org --trusted-host files.pythonhosted.org python-certifi-win32\n",
    "\n",
    "\n",
    "with open(\"data/population_density_data.json\", encoding=\"utf-8\") as data:\n",
    "    population_density_data = json.load(data)\n",
    "regions = population_density_data[\"dimension\"][\"Region\"][\"category\"][\"label\"]\n",
    "densities = population_density_data[\"value\"]\n",
    "region_density_mapping = dict(zip(regions.values(), densities))\n",
    "county = county.lower().strip()\n",
    "region_density_mapping = {key.lower().strip(): value for key, value in region_density_mapping.items()}\n",
    "population_density = region_density_mapping.get(county, None)\n",
    "print(population_density)\n",
    "ctx = ssl.create_default_context()\n",
    "ctx.check_hostname = False\n",
    "ctx.verify_mode = ssl.CERT_NONE\n",
    "geolocator = Nominatim(user_agent='VarderingsMaskinen', ssl_context=ctx, adapter_factory=geopy.adapters.URLLibAdapter)\n",
    "full_address = f\"{county}, {adress}\"\n",
    "\n",
    "\n",
    "location = geolocator.geocode(full_address)\n",
    "\n",
    "if location:\n",
    "    latitude = location.latitude\n",
    "    longitude = location.longitude\n",
    "    display_name = location.raw.get('display_name', '')\n",
    "    print(display_name)\n",
    "    area_parts = display_name.split(', ')\n",
    "    if len(area_parts) >= 4:\n",
    "        area = area_parts[2]\n",
    "        area = area.lower().strip()\n",
    "    else:\n",
    "        area = county\n",
    "    area = area.replace(' ', '_')\n",
    "    area_parts = area.split('-')\n",
    "    if area_parts:\n",
    "        area = area_parts[0]\n",
    "else:\n",
    "    print(f\"Unable to geocode the address: {full_address}\")\n",
    "user_input = {\n",
    "    \"property_type\": property_type,\n",
    "    \"build_year\": build_year,\n",
    "    \"living_area\": living_area,\n",
    "    \"land_area\": land_area,\n",
    "    \"county\": county,\n",
    "    \"area\": area,\n",
    "    \"latitude\": latitude,\n",
    "    \"longitude\": longitude,\n",
    "    \"fee\": fee,\n",
    "    \"rooms\": rooms,\n",
    "    \"balcony\": balcony,\n",
    "    \"age\": age,\n",
    "    \"population_density\": population_density\n",
    "}\n",
    "\n",
    "\n",
    "label_encoder = LabelEncoder()\n",
    "\n",
    "for feature in categorical_features:\n",
    "    if feature in user_input:\n",
    "        all_labels = df[feature].astype(str).append(pd.Series(user_input[feature]).astype(str))\n",
    "        \n",
    "        label_encoder.fit(all_labels)\n",
    "        \n",
    "        user_input[feature] = label_encoder.transform([user_input[feature]])[0]\n",
    "\n",
    "user_df = pd.DataFrame([user_input])\n",
    "\n",
    "if not hasattr(scaler, 'mean_'):\n",
    "    scaler.fit(X)\n",
    "\n",
    "user_scaled_input = scaler.transform(user_df)\n",
    "predicted_price = rf_regressor.predict(user_scaled_input)\n",
    "\n",
    "\n",
    "print(user_input)\n",
    "print(f\"Predicted Price: {predicted_price[0]}\")\n",
    "print(predicted_price)\n",
    "def rounder(predicted_price):\n",
    "    price1 = int(predicted_price[0].round())\n",
    "    increment = 5000\n",
    "    rounded_number = round(price1 / increment) * increment\n",
    "    return rounded_number\n",
    "print(\"Predicted Price:\", rounder(predicted_price))\n",
    "\n",
    "print(\"Recommended price range - Low:\", rounder(predicted_price-mae), \"- Normal:\",rounder(predicted_price), \"- High:\", rounder(predicted_price+mae))"
   ]
  }
 ],
 "metadata": {
  "kernelspec": {
   "display_name": "Python 3",
   "language": "python",
   "name": "python3"
  },
  "language_info": {
   "codemirror_mode": {
    "name": "ipython",
    "version": 3
   },
   "file_extension": ".py",
   "mimetype": "text/x-python",
   "name": "python",
   "nbconvert_exporter": "python",
   "pygments_lexer": "ipython3",
   "version": "3.9.0"
  }
 },
 "nbformat": 4,
 "nbformat_minor": 2
}
